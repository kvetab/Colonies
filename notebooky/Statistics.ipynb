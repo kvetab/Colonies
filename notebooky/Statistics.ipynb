{
 "cells": [
  {
   "cell_type": "code",
   "execution_count": 1,
   "metadata": {},
   "outputs": [],
   "source": [
    "import pandas as pd\n",
    "from scipy.stats import ttest_ind\n",
    "import numpy as np\n",
    "\n",
    "models_folder = \"../models/final/\"\n"
   ]
  },
  {
   "cell_type": "code",
   "execution_count": 2,
   "metadata": {},
   "outputs": [],
   "source": [
    "import os\n",
    "#models = os.listdir(models_folder)\n",
    "model1 = \"model1586864922.945057\"\n",
    "model2 = \"model1586866750.52218\"\n"
   ]
  },
  {
   "cell_type": "code",
   "execution_count": 9,
   "metadata": {},
   "outputs": [],
   "source": [
    "# architecture C vs. A (Sigmoid, 16,30,40)\n",
    "diffs1 = np.loadtxt(models_folder + model1 + \"/diffs.txt\")\n",
    "diffs2 = np.loadtxt(models_folder + model2 + \"/diffs.txt\")\n",
    "diffs1 = diffs1*diffs1\n",
    "diffs2 = diffs2*diffs2\n",
    "d1 = np.absolute(diffs1)\n",
    "d2 = np.absolute(diffs2)"
   ]
  },
  {
   "cell_type": "code",
   "execution_count": 10,
   "metadata": {},
   "outputs": [
    {
     "data": {
      "text/plain": [
       "1.1919937537514422e-05"
      ]
     },
     "execution_count": 10,
     "metadata": {},
     "output_type": "execute_result"
    }
   ],
   "source": [
    "stat, p = ttest_ind(diffs1, diffs2)\n",
    "p"
   ]
  },
  {
   "cell_type": "code",
   "execution_count": 11,
   "metadata": {},
   "outputs": [],
   "source": [
    "# architecture C vs. A (Sigmoid_ext, 16,30,40)\n",
    "model3 = \"model1586969621.354309\"\n",
    "model4 = \"model1587481501.19047\"\n",
    "\n",
    "diffs3 = np.loadtxt(models_folder + model3 + \"/diffs.txt\")\n",
    "diffs4 = np.loadtxt(models_folder + model4 + \"/diffs.txt\")\n",
    "diffs3 = diffs3*diffs3\n",
    "diffs4 = diffs4*diffs4"
   ]
  },
  {
   "cell_type": "code",
   "execution_count": 12,
   "metadata": {},
   "outputs": [
    {
     "data": {
      "text/plain": [
       "0.15323798945373046"
      ]
     },
     "execution_count": 12,
     "metadata": {},
     "output_type": "execute_result"
    }
   ],
   "source": [
    "stat, p = ttest_ind(diffs3, diffs4)\n",
    "p"
   ]
  },
  {
   "cell_type": "code",
   "execution_count": 13,
   "metadata": {},
   "outputs": [
    {
     "data": {
      "text/plain": [
       "3.055834658192755e-33"
      ]
     },
     "execution_count": 13,
     "metadata": {},
     "output_type": "execute_result"
    }
   ],
   "source": [
    "# architecture C vs. A (Sigmoid_shifted, 16,30,40)\n",
    "model5 = \"model1586979615.77893\"\n",
    "model6 = \"model1586983655.134655\"\n",
    "\n",
    "diffs5 = np.loadtxt(models_folder + model5 + \"/diffs.txt\")\n",
    "diffs6 = np.loadtxt(\"../models/ostatni/\" + model6 + \"/diffs.txt\")\n",
    "diffs5 = diffs5*diffs5\n",
    "diffs6 = diffs6*diffs6\n",
    "\n",
    "stat, p = ttest_ind(diffs5, diffs6)\n",
    "p"
   ]
  },
  {
   "cell_type": "code",
   "execution_count": 8,
   "metadata": {},
   "outputs": [
    {
     "data": {
      "text/plain": [
       "9.728097102362607e-54"
      ]
     },
     "execution_count": 8,
     "metadata": {},
     "output_type": "execute_result"
    }
   ],
   "source": [
    "diffs_C = np.concatenate([diffs1, diffs3, diffs4])\n",
    "diffs_A = np.concatenate([diffs2, diffs4, diffs6])\n",
    "stat, p = ttest_ind(diffs_C, diffs_A)\n",
    "p"
   ]
  },
  {
   "cell_type": "code",
   "execution_count": 14,
   "metadata": {},
   "outputs": [
    {
     "data": {
      "text/plain": [
       "8.69517983666614e-06"
      ]
     },
     "execution_count": 14,
     "metadata": {},
     "output_type": "execute_result"
    }
   ],
   "source": [
    "# FC vs no FC, architecture C, sigmoid\n",
    "model1 = \"model1586864922.945057\"\n",
    "model2 = \"model1586891247.234858\"\n",
    "\n",
    "diffs1 = np.loadtxt(models_folder + model1 + \"/diffs.txt\")\n",
    "diffs2 = np.loadtxt(models_folder + model2 + \"/diffs.txt\")\n",
    "diffs1 = diffs1*diffs1\n",
    "diffs2 = diffs2*diffs2\n",
    "\n",
    "stat, p = ttest_ind(diffs1, diffs2)\n",
    "p"
   ]
  },
  {
   "cell_type": "code",
   "execution_count": 15,
   "metadata": {},
   "outputs": [
    {
     "data": {
      "text/plain": [
       "2.750451806801666e-06"
      ]
     },
     "execution_count": 15,
     "metadata": {},
     "output_type": "execute_result"
    }
   ],
   "source": [
    "# FC vs no FC, architecture C, sigmoid ext\n",
    "model3 = \"model1586969621.354309\"\n",
    "model4 = \"model1587487921.409922\"\n",
    "\n",
    "diffs3 = np.loadtxt(models_folder + model3 + \"/diffs.txt\")\n",
    "diffs4 = np.loadtxt(models_folder + model4 + \"/diffs.txt\")\n",
    "diffs3 = diffs3*diffs3\n",
    "diffs4 = diffs4*diffs4\n",
    "\n",
    "stat, p = ttest_ind(diffs3, diffs4)\n",
    "p"
   ]
  },
  {
   "cell_type": "code",
   "execution_count": 16,
   "metadata": {},
   "outputs": [
    {
     "data": {
      "text/plain": [
       "3.207491649976897e-06"
      ]
     },
     "execution_count": 16,
     "metadata": {},
     "output_type": "execute_result"
    }
   ],
   "source": [
    "# FC vs no FC, architecture C, sigmoid shif\n",
    "model5 = \"model1586979615.77893\"\n",
    "model6 = \"model1587490102.830583\"\n",
    "\n",
    "diffs5 = np.loadtxt(models_folder + model5 + \"/diffs.txt\")\n",
    "diffs6 = np.loadtxt(models_folder + model6 + \"/diffs.txt\")\n",
    "diffs5 = diffs5*diffs5\n",
    "diffs6 = diffs6*diffs6\n",
    "\n",
    "stat, p = ttest_ind(diffs5, diffs6)\n",
    "p"
   ]
  },
  {
   "cell_type": "code",
   "execution_count": 17,
   "metadata": {},
   "outputs": [
    {
     "data": {
      "text/plain": [
       "4.222456686936152e-06"
      ]
     },
     "execution_count": 17,
     "metadata": {},
     "output_type": "execute_result"
    }
   ],
   "source": [
    "diffs_noFC = np.concatenate([diffs1, diffs3, diffs4])\n",
    "diffs_FC = np.concatenate([diffs2, diffs4, diffs6])\n",
    "stat, p = ttest_ind(diffs_noFC, diffs_FC)\n",
    "p"
   ]
  },
  {
   "cell_type": "code",
   "execution_count": 18,
   "metadata": {},
   "outputs": [
    {
     "data": {
      "text/plain": [
       "8.810772989924656e-10"
      ]
     },
     "execution_count": 18,
     "metadata": {},
     "output_type": "execute_result"
    }
   ],
   "source": [
    "C = ['final/model1586864922.945057', 'final/model1586969621.354309', 'final/model1586979615.77893', 'ostatni/model1586977567.631621']\n",
    "A = ['final/model1586975696.200092', 'final/model1586869164.61565', 'final/model1587481501.19047', 'final/model1586893349.358466']\n",
    "B = ['final/model1586857879.992869', 'final/model1586887368.514133', 'ostatni/model1586899137.160584', 'ostatni/model1586897673.780628']\n",
    "Clist = [np.loadtxt(\"../models/\" + model + \"/diffs.txt\") for model in C]\n",
    "diffsC = np.concatenate(Clist)\n",
    "diffsC = diffsC*diffsC\n",
    "Alist = [np.loadtxt(\"../models/\" + model + \"/diffs.txt\") for model in A]\n",
    "diffsA = np.concatenate(Alist)\n",
    "diffsA = diffsA*diffsA\n",
    "Blist = [np.loadtxt(\"../models/\" + model + \"/diffs.txt\") for model in B]\n",
    "diffsB = np.concatenate(Blist)\n",
    "diffsB = diffsB*diffsB\n",
    "\n",
    "# A vs C\n",
    "stat, p = ttest_ind(diffsA, diffsC)\n",
    "p"
   ]
  },
  {
   "cell_type": "code",
   "execution_count": 19,
   "metadata": {},
   "outputs": [
    {
     "data": {
      "text/plain": [
       "0.00013314550053899327"
      ]
     },
     "execution_count": 19,
     "metadata": {},
     "output_type": "execute_result"
    }
   ],
   "source": [
    "# A vs B\n",
    "stat, p = ttest_ind(diffsA, diffsB)\n",
    "p"
   ]
  },
  {
   "cell_type": "code",
   "execution_count": 20,
   "metadata": {},
   "outputs": [
    {
     "data": {
      "text/plain": [
       "2.1606707571778466e-22"
      ]
     },
     "execution_count": 20,
     "metadata": {},
     "output_type": "execute_result"
    }
   ],
   "source": [
    "# B vs C\n",
    "stat, p = ttest_ind(diffsB, diffsC)\n",
    "p"
   ]
  },
  {
   "cell_type": "code",
   "execution_count": null,
   "metadata": {},
   "outputs": [],
   "source": []
  }
 ],
 "metadata": {
  "kernelspec": {
   "display_name": "Python 3",
   "language": "python",
   "name": "python3"
  },
  "language_info": {
   "codemirror_mode": {
    "name": "ipython",
    "version": 3
   },
   "file_extension": ".py",
   "mimetype": "text/x-python",
   "name": "python",
   "nbconvert_exporter": "python",
   "pygments_lexer": "ipython3",
   "version": "3.6.4"
  }
 },
 "nbformat": 4,
 "nbformat_minor": 2
}
