{
 "cells": [
  {
   "cell_type": "code",
   "execution_count": 2,
   "metadata": {},
   "outputs": [],
   "source": [
    "import pandas as pd\n",
    "from scipy.stats import t\n",
    "import numpy as np\n",
    "\n",
    "table_file = \"../Porovnani_18_04.xlsx\"\n"
   ]
  },
  {
   "cell_type": "code",
   "execution_count": 3,
   "metadata": {},
   "outputs": [],
   "source": [
    "max_errors = [0.9569433, 2.9028034, 2.9028034, 0.9728277, 1.1853805, 2.7585018]\n",
    "mean_errors = [0.59619, 0.60261565, 0.6090153, 0.62757504, 0.66936237, 0.7651395]\n",
    "\n",
    "no_fc_errors = [0.59619, 0.60261565, 0.66936237, 0.9569433, 0.9728277]\n",
    "fc_errors = [0.7651395, 2.9028034, 0.99294955, 2.7585018, 2.7585018]"
   ]
  },
  {
   "cell_type": "code",
   "execution_count": 6,
   "metadata": {},
   "outputs": [
    {
     "data": {
      "text/plain": [
       "20.84384808664337"
      ]
     },
     "execution_count": 6,
     "metadata": {},
     "output_type": "execute_result"
    }
   ],
   "source": [
    "# max vs. mean\n",
    "\n",
    "# https://medium.com/analytics-vidhya/using-the-corrected-paired-students-t-test-for-comparing-the-performance-of-machine-learning-dc6529eaa97f\n",
    "\n",
    "diff = [y - x for y, x in zip(max_errors, mean_errors)]\n",
    "#Compute the mean of differences\n",
    "d_bar = np.mean(diff)\n",
    "#compute the variance of differences\n",
    "sigma2 = np.var(diff)\n",
    "#compute the number of data points used for training \n",
    "#n1 = len(y_train)\n",
    "#compute the number of data points used for testing \n",
    "#n2 = len(y_test)\n",
    "#compute the total number of data points\n",
    "n = 6\n",
    "#compute the modified variance\n",
    "#sigma2_mod = sigma2 * (1/n + n2/n1)\n",
    "#compute the t_static\n",
    "t_static =  d_bar / np.sqrt(sigma2)\n",
    "#Compute p-value and plot the results \n",
    "Pvalue = ((1 - t.cdf(t_static, n-1))*200)\n",
    "Pvalue"
   ]
  },
  {
   "cell_type": "code",
   "execution_count": 7,
   "metadata": {},
   "outputs": [
    {
     "name": "stderr",
     "output_type": "stream",
     "text": [
      "C:\\ProgramFiles\\Anaconda3\\lib\\site-packages\\scipy\\stats\\morestats.py:2385: UserWarning: Warning: sample size too small for normal approximation.\n",
      "  warnings.warn(\"Warning: sample size too small for normal approximation.\")\n"
     ]
    },
    {
     "data": {
      "text/plain": [
       "WilcoxonResult(statistic=0.0, pvalue=0.027707849358079864)"
      ]
     },
     "execution_count": 7,
     "metadata": {},
     "output_type": "execute_result"
    }
   ],
   "source": [
    "from scipy.stats import wilcoxon\n",
    "\n",
    "p = wilcoxon(max_errors, mean_errors)\n",
    "p"
   ]
  },
  {
   "cell_type": "code",
   "execution_count": 8,
   "metadata": {},
   "outputs": [
    {
     "name": "stderr",
     "output_type": "stream",
     "text": [
      "C:\\ProgramFiles\\Anaconda3\\lib\\site-packages\\scipy\\stats\\morestats.py:2385: UserWarning: Warning: sample size too small for normal approximation.\n",
      "  warnings.warn(\"Warning: sample size too small for normal approximation.\")\n"
     ]
    },
    {
     "data": {
      "text/plain": [
       "WilcoxonResult(statistic=0.0, pvalue=0.043114446783075355)"
      ]
     },
     "execution_count": 8,
     "metadata": {},
     "output_type": "execute_result"
    }
   ],
   "source": [
    "p2 = wilcoxon(no_fc_errors, fc_errors)\n",
    "p2"
   ]
  },
  {
   "cell_type": "code",
   "execution_count": null,
   "metadata": {},
   "outputs": [],
   "source": []
  }
 ],
 "metadata": {
  "kernelspec": {
   "display_name": "Python 3",
   "language": "python",
   "name": "python3"
  },
  "language_info": {
   "codemirror_mode": {
    "name": "ipython",
    "version": 3
   },
   "file_extension": ".py",
   "mimetype": "text/x-python",
   "name": "python",
   "nbconvert_exporter": "python",
   "pygments_lexer": "ipython3",
   "version": "3.6.4"
  }
 },
 "nbformat": 4,
 "nbformat_minor": 2
}
